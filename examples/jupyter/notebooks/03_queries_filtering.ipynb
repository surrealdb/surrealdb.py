{
 "cells": [
  {
   "cell_type": "markdown",
   "metadata": {},
   "source": ["# Queries & Filtering\n", "\n", "Learn advanced querying with SurrealQL."]
  },
  {
   "cell_type": "code",
   "execution_count": null,
   "metadata": {},
   "outputs": [],
   "source": ["import sys\n", "sys.path.append('..')\n", "from database import get_connection\n", "from utils import sample_data, pretty_print\n", "\n", "db = await get_connection()\n", "await sample_data(db)"]
  },
  {
   "cell_type": "code",
   "execution_count": null,
   "metadata": {},
   "outputs": [],
   "source": ["# Query with WHERE clause\n", "result = await db.query('SELECT * FROM users WHERE age > 30')\n", "pretty_print(result)"]
  }
 ],
 "metadata": {"kernelspec": {"display_name": "Python 3", "language": "python", "name": "python3"}},
 "nbformat": 4,
 "nbformat_minor": 4
}
