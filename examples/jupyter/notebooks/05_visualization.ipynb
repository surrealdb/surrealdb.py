{
 "cells": [
  {
   "cell_type": "markdown",
   "metadata": {},
   "source": ["# Data Visualization\n", "\n", "Create charts from SurrealDB data."]
  },
  {
   "cell_type": "code",
   "execution_count": null,
   "metadata": {},
   "outputs": [],
   "source": ["import sys\n", "sys.path.append('..')\n", "import matplotlib.pyplot as plt\n", "from database import get_connection\n", "from utils import sample_data, to_dataframe\n", "\n", "db = await get_connection()\n", "await sample_data(db)"]
  },
  {
   "cell_type": "code",
   "execution_count": null,
   "metadata": {},
   "outputs": [],
   "source": ["users = await db.select('users')\n", "df = to_dataframe(users)\n", "df.plot(kind='bar', x='name', y='age')\n", "plt.show()"]
  }
 ],
 "metadata": {"kernelspec": {"display_name": "Python 3", "language": "python", "name": "python3"}},
 "nbformat": 4,
 "nbformat_minor": 4
}
