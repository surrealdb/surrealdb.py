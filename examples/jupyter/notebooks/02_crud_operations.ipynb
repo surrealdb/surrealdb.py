{
 "cells": [
  {
   "cell_type": "markdown",
   "metadata": {},
   "source": [
    "# CRUD Operations with SurrealDB\n",
    "\n",
    "This notebook demonstrates Create, Read, Update, and Delete operations.\n",
    "\n",
    "##  Topics Covered\n",
    "- Creating records\n",
    "- Reading data\n",
    "- Updating records  \n",
    "- Deleting records\n",
    "- Batch operations\n"
   ]
  },
  {
   "cell_type": "code",
   "execution_count": null,
   "metadata": {},
   "outputs": [],
   "source": [
    "import sys\n",
    "\n",
    "sys.path.append(\"..\")\n",
    "from database import get_connection, close_connection\n",
    "from utils import pretty_print\n",
    "\n",
    "db = await get_connection()\n",
    "print(\"✅ Connected\")"
   ]
  },
  {
   "cell_type": "markdown",
   "metadata": {},
   "source": [
    "## Create - Adding New Records\n"
   ]
  },
  {
   "cell_type": "code",
   "execution_count": null,
   "metadata": {},
   "outputs": [],
   "source": [
    "# Create a single user\n",
    "user = await db.create(\"users\", {\"name\": \"Bob Smith\", \"email\": \"bob@example.com\", \"age\": 35})\n",
    "pretty_print(user)"
   ]
  },
  {
   "cell_type": "markdown",
   "metadata": {},
   "source": [
    "## Read - Querying Data\n"
   ]
  },
  {
   "cell_type": "code",
   "execution_count": null,
   "metadata": {},
   "outputs": [],
   "source": [
    "# Read all users\n",
    "users = await db.select(\"users\")\n",
    "print(f\"Total users: {len(users)}\")\n",
    "pretty_print(users)"
   ]
  },
  {
   "cell_type": "markdown",
   "metadata": {},
   "source": [
    "## Update - Modifying Records\n"
   ]
  },
  {
   "cell_type": "code",
   "execution_count": null,
   "metadata": {},
   "outputs": [],
   "source": [
    "# Get user ID (use the first user for example)\n",
    "user_id = users[0][\"id\"]\n",
    "\n",
    "# Update the user\n",
    "updated = await db.merge(user_id, {\"age\": 36})\n",
    "pretty_print(updated)"
   ]
  },
  {
   "cell_type": "markdown",
   "metadata": {},
   "source": [
    "## Delete - Removing Records\n"
   ]
  },
  {
   "cell_type": "code",
   "execution_count": null,
   "metadata": {},
   "outputs": [],
   "source": [
    "# Delete a specific user\n",
    "deleted = await db.delete(user_id)\n",
    "print(f\"✅ Deleted user: {user_id}\")\n",
    "\n",
    "await close_connection(db)"
   ]
  }
 ],
 "metadata": {
  "language_info": {
   "name": "python"
  }
 },
 "nbformat": 4,
 "nbformat_minor": 2
}
