{
 "cells": [
  {
   "cell_type": "markdown",
   "metadata": {},
   "source": ["# Data Analysis with Pandas\n", "\n", "Integrate SurrealDB with Pandas."]
  },
  {
   "cell_type": "code",
   "execution_count": null,
   "metadata": {},
   "outputs": [],
   "source": ["import sys\n", "sys.path.append('..')\n", "from database import get_connection\n", "from utils import sample_data, to_dataframe\n", "\n", "db = await get_connection()\n", "await sample_data(db)"]
  },
  {
   "cell_type": "code",
   "execution_count": null,
   "metadata": {},
   "outputs": [],
   "source": ["users = await db.select('users')\n", "df = to_dataframe(users)\n", "df.describe()"]
  }
 ],
 "metadata": {"kernelspec": {"display_name": "Python 3", "language": "python", "name": "python3"}},
 "nbformat": 4,
 "nbformat_minor": 4
}
