{
  "cells": [
    {
      "cell_type": "markdown",
      "metadata": {},
      "source": [
        "# Getting Started with SurrealDB\n",
        "\n",
        "Welcome to this interactive tutorial! This notebook will teach you the basics of working with SurrealDB in Python.\n",
        "\n",
        "## What you'll learn\n",
        "\n",
        "- How to connect to SurrealDB\n",
        "- Basic database operations\n",
        "- Understanding the data model\n",
        "- Running your first queries\n",
        "\n",
        "## Prerequisites\n",
        "\n",
        "Make sure SurrealDB is running:\n",
        "```bash\n",
        "docker compose up -d\n",
        "```\n"
      ]
    },
    {
      "cell_type": "code",
      "execution_count": null,
      "metadata": {},
      "outputs": [],
      "source": [
        "# Import required libraries\n",
        "import sys\n",
        "sys.path.append('..')\n",
        "\n",
        "from database import get_connection, close_connection\n",
        "from utils import pretty_print\n",
        "\n",
        "print(\"✅ Imports successful!\")\n"
      ]
    },
    {
      "cell_type": "markdown",
      "metadata": {},
      "source": [
        "## Connect to SurrealDB\n",
        "\n",
        "Let's establish a connection to the database. The `get_connection()` helper handles authentication and namespace/database selection.\n"
      ]
    },
    {
      "cell_type": "code",
      "execution_count": null,
      "metadata": {},
      "outputs": [],
      "source": [
        "# Connect to the database\n",
        "db = await get_connection()\n",
        "print(\"✅ Connected to SurrealDB!\")\n"
      ]
    },
    {
      "cell_type": "markdown",
      "metadata": {},
      "source": [
        "## Your First Query\n",
        "\n",
        "Let's create a simple record and retrieve it. In SurrealDB, you can create records without defining a schema first!\n"
      ]
    },
    {
      "cell_type": "code",
      "execution_count": null,
      "metadata": {},
      "outputs": [],
      "source": [
        "# Create a user\n",
        "result = await db.create(\"users\", {\n",
        "    \"name\": \"Alice Johnson\",\n",
        "    \"email\": \"alice@example.com\",\n",
        "    \"age\": 28\n",
        "})\n",
        "\n",
        "print(\"Created user:\")\n",
        "pretty_print(result)\n"
      ]
    },
    {
      "cell_type": "code",
      "execution_count": null,
      "metadata": {},
      "outputs": [],
      "source": [
        "# Query all users\n",
        "all_users = await db.select(\"users\")\n",
        "print(f\"Found {len(all_users)} users:\")\n",
        "pretty_print(all_users)\n"
      ]
    },
    {
      "cell_type": "markdown",
      "metadata": {},
      "source": [
        "## Clean Up\n",
        "\n",
        "Always close the database connection when done.\n"
      ]
    },
    {
      "cell_type": "code",
      "execution_count": null,
      "metadata": {},
      "outputs": [],
      "source": [
        "# Close the connection\n",
        "await close_connection(db)\n",
        "print(\"✅ Connection closed\")\n"
      ]
    }
  ],
  "metadata": {
    "language_info": {
      "name": "python"
    }
  },
  "nbformat": 4,
  "nbformat_minor": 2
}
