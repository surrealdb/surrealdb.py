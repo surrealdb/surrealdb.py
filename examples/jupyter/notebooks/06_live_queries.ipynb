{
 "cells": [
  {
   "cell_type": "markdown",
   "metadata": {},
   "source": ["# Live Queries\n", "\n", "Subscribe to real-time database changes."]
  },
  {
   "cell_type": "code",
   "execution_count": null,
   "metadata": {},
   "outputs": [],
   "source": ["import sys\n", "sys.path.append('..')\n", "from database import get_connection\n", "\n", "db = await get_connection()"]
  },
  {
   "cell_type": "code",
   "execution_count": null,
   "metadata": {},
   "outputs": [],
   "source": ["# Subscribe to live queries\n", "live_id = await db.live('users')\n", "print(f'Subscribed: {live_id}')"]
  }
 ],
 "metadata": {"kernelspec": {"display_name": "Python 3", "language": "python", "name": "python3"}},
 "nbformat": 4,
 "nbformat_minor": 4
}
