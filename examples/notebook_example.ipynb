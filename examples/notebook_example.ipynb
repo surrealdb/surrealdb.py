{
 "cells": [
  {
   "attachments": {},
   "cell_type": "markdown",
   "metadata": {},
   "source": [
    "## Example of how to use the SurrealDB client in a notebook"
   ]
  },
  {
   "cell_type": "code",
   "execution_count": null,
   "metadata": {},
   "outputs": [],
   "source": [
    "from surrealdb import Surreal\n",
    "\n",
    "db = Surreal(\"ws://localhost:8000/rpc\")\n",
    "await db.connect()\n",
    "await db.signin({\"user\": \"root\", \"pass\": \"root\"})\n",
    "await db.use(\"test\", \"test\")"
   ]
  },
  {
   "cell_type": "code",
   "execution_count": null,
   "metadata": {},
   "outputs": [],
   "source": [
    "await db.create(\n",
    "    \"person\",\n",
    "    {\n",
    "        \"user\": \"me\",\n",
    "        \"pass\": \"safe\",\n",
    "        \"marketing\": True,\n",
    "        \"tags\": [\"python\", \"documentation\"],\n",
    "    },\n",
    ")"
   ]
  },
  {
   "cell_type": "code",
   "execution_count": null,
   "metadata": {},
   "outputs": [],
   "source": [
    "await db.select(\"person\")"
   ]
  },
  {
   "cell_type": "code",
   "execution_count": null,
   "metadata": {},
   "outputs": [],
   "source": [
    "await db.update(\"person\", {\n",
    "    \"user\":\"you\",\n",
    "    \"pass\":\"very_safe\",\n",
    "    \"marketing\": False,\n",
    "    \"tags\": [\"Awesome\"]\n",
    "})"
   ]
  },
  {
   "cell_type": "code",
   "execution_count": null,
   "metadata": {},
   "outputs": [],
   "source": [
    "await db.delete(\"person\")"
   ]
  }
 ],
 "metadata": {
  "kernelspec": {
   "display_name": ".venv",
   "language": "python",
   "name": "python3"
  },
  "language_info": {
   "codemirror_mode": {
    "name": "ipython",
    "version": 3
   },
   "file_extension": ".py",
   "mimetype": "text/x-python",
   "name": "python",
   "nbconvert_exporter": "python",
   "pygments_lexer": "ipython3",
   "version": "3.10.11"
  },
  "orig_nbformat": 4
 },
 "nbformat": 4,
 "nbformat_minor": 2
}
