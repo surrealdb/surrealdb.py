{
 "cells": [
  {
   "attachments": {},
   "cell_type": "markdown",
   "metadata": {},
   "source": [
    "## Example of how to use the SurrealDB client in a notebook"
   ]
  },
  {
   "cell_type": "code",
   "execution_count": null,
   "metadata": {},
   "outputs": [],
   "source": [
    "from surrealdb import Surreal\n",
    "\n",
    "db = Surreal(\"http://localhost:8000\")\n",
    "await db.connect()\n",
    "await db.signin({\"user\": \"root\", \"pass\": \"root\"})\n",
    "await db.use(\"test\", \"test\")"
   ]
  },
  {
   "cell_type": "code",
   "execution_count": null,
   "metadata": {},
   "outputs": [],
   "source": [
    "await db.create(\n",
    "    \"person\",\n",
    "    {\n",
    "        \"user\": \"me\",\n",
    "        \"pass\": \"safe\",\n",
    "        \"marketing\": True,\n",
    "        \"tags\": [\"python\", \"documentation\"],\n",
    "    },\n",
    ")"
   ]
  },
  {
   "cell_type": "code",
   "execution_count": null,
   "metadata": {},
   "outputs": [],
   "source": [
    "await db.select(\"person\")"
   ]
  },
  {
   "cell_type": "code",
   "execution_count": null,
   "metadata": {},
   "outputs": [],
   "source": [
    "await db.update(\"person\", {\n",
    "    \"user\":\"you\",\n",
    "    \"pass\":\"very_safe\",\n",
    "    \"marketing\": False,\n",
    "    \"tags\": [\"Awesome\"]\n",
    "})"
   ]
  },
  {
   "cell_type": "code",
   "execution_count": null,
   "metadata": {},
   "outputs": [],
   "source": [
    "await db.delete(\"person\")"
   ]
  }
 ],
 "metadata": {
  "language_info": {
   "name": "python"
  },
  "orig_nbformat": 4
 },
 "nbformat": 4,
 "nbformat_minor": 2
}
